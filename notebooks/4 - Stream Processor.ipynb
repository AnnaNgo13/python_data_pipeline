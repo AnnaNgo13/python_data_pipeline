{
 "cells": [
  {
   "cell_type": "markdown",
   "metadata": {},
   "source": [
    "# Step 4 - Message Processor"
   ]
  },
  {
   "cell_type": "markdown",
   "metadata": {},
   "source": [
    "We launch our Stream processor to check for existing messages, rety every 5 seconds"
   ]
  },
  {
   "cell_type": "code",
   "execution_count": null,
   "metadata": {},
   "outputs": [],
   "source": [
    "import boto3\n",
    "import json\n",
    "import time\n",
    "import pandas as pd\n",
    "#SQS client library\n",
    "sqs = boto3.client('sqs'\n",
    "    , endpoint_url=\"http://localhost:4576\" #only for test purposes\n",
    "    , use_ssl=False #only for test purposes\n",
    "    , region_name='us-east-1')\n",
    "queue_url = 'http://localhost:4576/queue/sse_queue'\n",
    "s3 = boto3.resource('s3'\n",
    "    , endpoint_url=\"http://localhost:4572\" #only for test purposes\n",
    "    , use_ssl=False #only for test purposes\n",
    "    , region_name='us-east-1')\n",
    "#desired payload\n",
    "map_keys = ['id','type','namespace','title','comment','timestamp','user','bot', 'ReceiptHandle']\n",
    "list_msgs = [] \n",
    "\n",
    "def read_batch():\n",
    "    while True:\n",
    "        try:\n",
    "            response = sqs.receive_message(\n",
    "                QueueUrl = queue_url,\n",
    "                MaxNumberOfMessages = 10 #Max Batch size\n",
    "            )\n",
    "            process_batch( response['Messages'] )\n",
    "        except KeyError:\n",
    "            print('\\rNo messages available, retrying in 5 seconds...', sep=' ', end='', flush=True)\n",
    "            time.sleep(5) \n",
    "\n",
    "def process_batch( messages ):\n",
    "    global list_msgs\n",
    "    for message in messages:\n",
    "        d = json.loads(message['Body'])\n",
    "        #This just cleans the message's body from non-desired data \n",
    "        clean_dict = { key:(d[key] if key in d else None) for key in map_keys }\n",
    "        #We enrich our df with the message's receipt handle in order to clean it from the queue\n",
    "        clean_dict['ReceiptHandle'] = message['ReceiptHandle']\n",
    "        list_msgs.append(clean_dict)\n",
    "\n",
    "    if len( list_msgs ) >= 100:\n",
    "        print('\\rBatch ready to be exported to the Data Lake', sep=' ', end='', flush=True)\n",
    "        to_data_lake( list_msgs )\n",
    "        list_msgs = list()\n",
    "\n",
    "def to_data_lake( df ):\n",
    "    batch_df = pd.DataFrame( list_msgs )\n",
    "    csv = batch_df.to_csv( index=False )\n",
    "    filename = 'batch-%s.csv' % df[0]['id']\n",
    "    #csv to s3 bucket\n",
    "    s3.Bucket('sse-bucket').put_object( Key=filename, Body=csv, ACL='public-read' )\n",
    "    print('\\r%s saved into the Data Lake' % filename, sep=' ', end='', flush=True)\n",
    "    remove_messages( batch_df )\n",
    "\n",
    "def remove_messages( df ):\n",
    "    for receipt_handle in df['ReceiptHandle'].values:\n",
    "        sqs.delete_message(\n",
    "            QueueUrl = queue_url,\n",
    "            ReceiptHandle = receipt_handle\n",
    "        )\n"
   ]
  },
  {
   "cell_type": "code",
   "execution_count": null,
   "metadata": {},
   "outputs": [],
   "source": [
    "read_batch()"
   ]
  }
 ],
 "metadata": {
  "kernelspec": {
   "display_name": "Python 3",
   "language": "python",
   "name": "python3"
  },
  "language_info": {
   "codemirror_mode": {
    "name": "ipython",
    "version": 3
   },
   "file_extension": ".py",
   "mimetype": "text/x-python",
   "name": "python",
   "nbconvert_exporter": "python",
   "pygments_lexer": "ipython3",
   "version": "3.7.0"
  }
 },
 "nbformat": 4,
 "nbformat_minor": 4
}
