{
 "cells": [
  {
   "cell_type": "markdown",
   "metadata": {},
   "source": [
    "# Step 5 - SSE Consumer"
   ]
  },
  {
   "cell_type": "markdown",
   "metadata": {},
   "source": [
    "Consume the WMF Stream and puts each message into our SQS queue"
   ]
  },
  {
   "cell_type": "code",
   "execution_count": null,
   "metadata": {},
   "outputs": [],
   "source": [
    "import boto3\n",
    "import json\n",
    "from sseclient import SSEClient as EventSource\n",
    "\n",
    "#SQS client library\n",
    "sqs = boto3.client('sqs'\n",
    "    , endpoint_url=\"http://localhost:4576\" #only for test purposes\n",
    "    , use_ssl=False #only for test purposes\n",
    "    , region_name='us-east-1')\n",
    "queue_url = 'http://localhost:4576/queue/sse_queue'\n",
    "\n",
    "def catch_events():\n",
    "    url = 'https://stream.wikimedia.org/v2/stream/recentchange'\n",
    "    for event in EventSource(url):\n",
    "        if event.event == 'message':\n",
    "            try:\n",
    "                message = json.loads(event.data)\n",
    "            except ValueError:\n",
    "                pass\n",
    "            else: \n",
    "                enqueue_message( json.dumps(message) )\n",
    "\n",
    "def enqueue_message( message ):\n",
    "    response = sqs.send_message(\n",
    "        QueueUrl = queue_url,\n",
    "        DelaySeconds=1,\n",
    "        MessageBody = message\n",
    "    )\n",
    "    print('\\rMessage %s enqueued' % response['MessageId'], sep=' ', end='', flush=True)\n",
    "  "
   ]
  },
  {
   "cell_type": "code",
   "execution_count": null,
   "metadata": {},
   "outputs": [],
   "source": [
    "catch_events()"
   ]
  }
 ],
 "metadata": {
  "kernelspec": {
   "display_name": "Python 3",
   "language": "python",
   "name": "python3"
  },
  "language_info": {
   "codemirror_mode": {
    "name": "ipython",
    "version": 3
   },
   "file_extension": ".py",
   "mimetype": "text/x-python",
   "name": "python",
   "nbconvert_exporter": "python",
   "pygments_lexer": "ipython3",
   "version": "3.7.0"
  }
 },
 "nbformat": 4,
 "nbformat_minor": 4
}
